{
 "cells": [
  {
   "cell_type": "markdown",
   "id": "1470a0e1-b25f-4f61-9f66-3ad49b4cb9f7",
   "metadata": {
    "tags": []
   },
   "source": [
    "## Smart or Starving: How Does County Education Influence Poverty Rates? #\n",
    "#### A Tutorial #\n",
    "##### (James) Matthew Island<br>CMSC320<br>December 12, 2022 #"
   ]
  },
  {
   "cell_type": "markdown",
   "id": "0be18e69-5621-4ab7-9e06-1a9315044bf8",
   "metadata": {
    "tags": []
   },
   "source": [
    "### 1. Introduction #"
   ]
  },
  {
   "cell_type": "markdown",
   "id": "3619af84-2cdc-42f9-9f2c-209ef6f6158b",
   "metadata": {
    "tags": []
   },
   "source": [
    "Pursuing a higher education is one of the most reliable ways of securing a high-paying career in the modern day. Most companies require some sort of four year degree or certification from an accredited university as a threshold for \"white collar\" work-- and salary. A college degree isn't always necessary for a high salary, though-- society depends upon work which requires little to no college education, and some tradesmen and tradeswomen are paid well for the importance of their work. Electricians, construction workers, and auto repair mechanics (just to name a few) can secure very lucrative salaries in their respecitve fields. However, sometimes circumstances in an area can create an environment where citizens don't have access to quality education-- at the college *or* high school level-- which they need in order to succeed financially. These circumstances could be economic recession; high levels of crime; inadequate funding for public resources; any number of societal blights.\n",
    "\n",
    "The initial questions which this tutorial aimed to answer were these: how well might the level of education in a given county within the (contiguous) United States predict that county's levels of poverty? Does higher rates and levels of education strictly create a less poverty-prone county, or is a balance between high-school-only education and college-level education the best environment for lower rates of poverty?"
   ]
  },
  {
   "cell_type": "markdown",
   "id": "669a8652-db20-4951-9556-ad028b3ae9f2",
   "metadata": {
    "tags": []
   },
   "source": [
    "### 2. Data #\n",
    "Firstly, let's import the necessary packages for collecting our data."
   ]
  },
  {
   "cell_type": "code",
   "execution_count": 2,
   "id": "cd982bed-5146-4438-ab6a-1dcfa5d846c0",
   "metadata": {},
   "outputs": [],
   "source": [
    "import pandas\n",
    "import numpy"
   ]
  },
  {
   "cell_type": "markdown",
   "id": "0c198db5-82db-4cb4-954d-3cd8a23ed63d",
   "metadata": {},
   "source": [
    "Now, we load in our independent variable-- rates of educational achievement in the U.S. by county. The [dataset](https://www.ers.usda.gov/data-products/county-level-data-sets/county-level-data-sets-download-data/#:~:text=Educational%20attainment%20for%20adults%20age%2025%20and%20older%20for%20the%20U.S.%2C%20States%2C%20and%20counties%2C%201970%E2%80%932020) we will be using for this metric was collected by the U.S. Census Bureau, and was made presentable by the USDA. Despite the size of the data, the USDA packaged everything into one table, which outlines the rate of educational achievement by county with the following relevant columns:\n",
    "1. **FIPS Code**<br>\n",
    "This code is a unique five-digit ID assigned to each county in the U.S. The first two digits represent state. For example, Alabama's FIPS code is 01000, and Maryland's is 24000. The remaining three digits are a unique code for each county in the state.\n",
    "2. **State**<br>\n",
    "The state the county belongs to.\n",
    "3. **Area Name**<br>\n",
    "The name of the county.\n",
    "4. **Percent of Adults with Less than a High School Diploma (1970, 1980, 1990, 2000, 2007-11, 2016-20)**<br>\n",
    "The percent of adults 25 years or older whose educational level is below a high school graduate. There is a seperate column for each year grouping listed above.\n",
    "5. **Percent of Adults with a High School Diploma Only (1970, 1980, 1990, 2000, 2007-11, 2016-20)** <br>\n",
    "The percent of adults 25 years or older who have graduated high school, but have no further formal education beyond that. There is a seperate column for each year grouping listed above.\n",
    "6. **Percent of Adults Completing Some College (1970, 1980, 1990, 2000, 2007-11, 2016-20)** <br>\n",
    "The percent of adults 25 years or older who have completed between one to three years of college. There is a seperate column for each year grouping listed above.\n",
    "7. **Percent of Adults Completing Four Years of College or Higher (1970, 1980, 1990, 2000, 2007-11, 2016-20)** <br>\n",
    "The percent of adults 25 years or older who have completed four years or more of college. There is a seperate column for each year grouping listed above."
   ]
  },
  {
   "cell_type": "markdown",
   "id": "64d0fdc3-4691-4551-8609-f2c527deee0c",
   "metadata": {},
   "source": [
    "The data also has the raw numbers for each of the counties by year, but the percentages have contextualized the raw number of citizens in each category by the population of the county, and more can be inferred from the percentage, so we will be using those columns."
   ]
  },
  {
   "cell_type": "code",
   "execution_count": 3,
   "id": "6d412c3b-8135-4d5e-b4f5-8e7c2a09c71f",
   "metadata": {},
   "outputs": [
    {
     "data": {
      "text/html": [
       "<div>\n",
       "<style scoped>\n",
       "    .dataframe tbody tr th:only-of-type {\n",
       "        vertical-align: middle;\n",
       "    }\n",
       "\n",
       "    .dataframe tbody tr th {\n",
       "        vertical-align: top;\n",
       "    }\n",
       "\n",
       "    .dataframe thead th {\n",
       "        text-align: right;\n",
       "    }\n",
       "</style>\n",
       "<table border=\"1\" class=\"dataframe\">\n",
       "  <thead>\n",
       "    <tr style=\"text-align: right;\">\n",
       "      <th></th>\n",
       "      <th>Federal Information Processing Standard (FIPS) Code</th>\n",
       "      <th>State</th>\n",
       "      <th>Area name</th>\n",
       "      <th>2003 Rural-urban Continuum Code</th>\n",
       "      <th>2003 Urban Influence Code</th>\n",
       "      <th>2013 Rural-urban Continuum Code</th>\n",
       "      <th>2013 Urban Influence Code</th>\n",
       "      <th>Less than a high school diploma, 1970</th>\n",
       "      <th>High school diploma only, 1970</th>\n",
       "      <th>Some college (1-3 years), 1970</th>\n",
       "      <th>...</th>\n",
       "      <th>Percent of adults completing some college or associate's degree, 2007-11</th>\n",
       "      <th>Percent of adults with a bachelor's degree or higher 2007-11</th>\n",
       "      <th>Less than a high school diploma, 2016-20</th>\n",
       "      <th>High school diploma only, 2016-20</th>\n",
       "      <th>Some college or associate's degree, 2016-20</th>\n",
       "      <th>Bachelor's degree or higher, 2016-20</th>\n",
       "      <th>Percent of adults with less than a high school diploma, 2016-20</th>\n",
       "      <th>Percent of adults with a high school diploma only, 2016-20</th>\n",
       "      <th>Percent of adults completing some college or associate's degree, 2016-20</th>\n",
       "      <th>Percent of adults with a bachelor's degree or higher 2015-19</th>\n",
       "    </tr>\n",
       "  </thead>\n",
       "  <tbody>\n",
       "    <tr>\n",
       "      <th>0</th>\n",
       "      <td>0</td>\n",
       "      <td>US</td>\n",
       "      <td>United States</td>\n",
       "      <td>NaN</td>\n",
       "      <td>NaN</td>\n",
       "      <td>NaN</td>\n",
       "      <td>NaN</td>\n",
       "      <td>52,373,312</td>\n",
       "      <td>34,158,051</td>\n",
       "      <td>11,650,730</td>\n",
       "      <td>...</td>\n",
       "      <td>28.6</td>\n",
       "      <td>28.2</td>\n",
       "      <td>25,562,680</td>\n",
       "      <td>59,421,419</td>\n",
       "      <td>64,496,416</td>\n",
       "      <td>73,356,319</td>\n",
       "      <td>11.5</td>\n",
       "      <td>26.7</td>\n",
       "      <td>28.9</td>\n",
       "      <td>32.9</td>\n",
       "    </tr>\n",
       "    <tr>\n",
       "      <th>1</th>\n",
       "      <td>1000</td>\n",
       "      <td>AL</td>\n",
       "      <td>Alabama</td>\n",
       "      <td>NaN</td>\n",
       "      <td>NaN</td>\n",
       "      <td>NaN</td>\n",
       "      <td>NaN</td>\n",
       "      <td>1,062,306</td>\n",
       "      <td>468,269</td>\n",
       "      <td>136,287</td>\n",
       "      <td>...</td>\n",
       "      <td>28.5</td>\n",
       "      <td>22.0</td>\n",
       "      <td>438,947</td>\n",
       "      <td>1,014,342</td>\n",
       "      <td>1,013,673</td>\n",
       "      <td>877,044</td>\n",
       "      <td>13.1</td>\n",
       "      <td>30.3</td>\n",
       "      <td>30.3</td>\n",
       "      <td>26.2</td>\n",
       "    </tr>\n",
       "    <tr>\n",
       "      <th>2</th>\n",
       "      <td>1001</td>\n",
       "      <td>AL</td>\n",
       "      <td>Autauga County</td>\n",
       "      <td>2.0</td>\n",
       "      <td>2.0</td>\n",
       "      <td>2.0</td>\n",
       "      <td>2.0</td>\n",
       "      <td>6,611</td>\n",
       "      <td>3,757</td>\n",
       "      <td>933</td>\n",
       "      <td>...</td>\n",
       "      <td>29.8</td>\n",
       "      <td>21.6</td>\n",
       "      <td>4,273</td>\n",
       "      <td>11,880</td>\n",
       "      <td>10,986</td>\n",
       "      <td>10,721</td>\n",
       "      <td>11.3</td>\n",
       "      <td>31.4</td>\n",
       "      <td>29.0</td>\n",
       "      <td>28.3</td>\n",
       "    </tr>\n",
       "    <tr>\n",
       "      <th>3</th>\n",
       "      <td>1003</td>\n",
       "      <td>AL</td>\n",
       "      <td>Baldwin County</td>\n",
       "      <td>4.0</td>\n",
       "      <td>5.0</td>\n",
       "      <td>3.0</td>\n",
       "      <td>2.0</td>\n",
       "      <td>18,726</td>\n",
       "      <td>8,426</td>\n",
       "      <td>2,334</td>\n",
       "      <td>...</td>\n",
       "      <td>31.5</td>\n",
       "      <td>27.2</td>\n",
       "      <td>14,823</td>\n",
       "      <td>42,272</td>\n",
       "      <td>48,832</td>\n",
       "      <td>49,636</td>\n",
       "      <td>9.5</td>\n",
       "      <td>27.2</td>\n",
       "      <td>31.4</td>\n",
       "      <td>31.9</td>\n",
       "    </tr>\n",
       "    <tr>\n",
       "      <th>4</th>\n",
       "      <td>1005</td>\n",
       "      <td>AL</td>\n",
       "      <td>Barbour County</td>\n",
       "      <td>6.0</td>\n",
       "      <td>6.0</td>\n",
       "      <td>6.0</td>\n",
       "      <td>6.0</td>\n",
       "      <td>8,120</td>\n",
       "      <td>2,242</td>\n",
       "      <td>581</td>\n",
       "      <td>...</td>\n",
       "      <td>25.5</td>\n",
       "      <td>13.9</td>\n",
       "      <td>4,497</td>\n",
       "      <td>6,361</td>\n",
       "      <td>4,872</td>\n",
       "      <td>2,067</td>\n",
       "      <td>25.3</td>\n",
       "      <td>35.7</td>\n",
       "      <td>27.4</td>\n",
       "      <td>11.6</td>\n",
       "    </tr>\n",
       "  </tbody>\n",
       "</table>\n",
       "<p>5 rows × 55 columns</p>\n",
       "</div>"
      ],
      "text/plain": [
       "   Federal Information Processing Standard (FIPS) Code State       Area name  \\\n",
       "0                                                  0      US   United States   \n",
       "1                                               1000      AL         Alabama   \n",
       "2                                               1001      AL  Autauga County   \n",
       "3                                               1003      AL  Baldwin County   \n",
       "4                                               1005      AL  Barbour County   \n",
       "\n",
       "   2003 Rural-urban Continuum Code  2003 Urban Influence Code  \\\n",
       "0                              NaN                        NaN   \n",
       "1                              NaN                        NaN   \n",
       "2                              2.0                        2.0   \n",
       "3                              4.0                        5.0   \n",
       "4                              6.0                        6.0   \n",
       "\n",
       "   2013 Rural-urban Continuum Code  2013 Urban Influence Code  \\\n",
       "0                              NaN                        NaN   \n",
       "1                              NaN                        NaN   \n",
       "2                              2.0                        2.0   \n",
       "3                              3.0                        2.0   \n",
       "4                              6.0                        6.0   \n",
       "\n",
       "  Less than a high school diploma, 1970 High school diploma only, 1970  \\\n",
       "0                            52,373,312                     34,158,051   \n",
       "1                             1,062,306                        468,269   \n",
       "2                                 6,611                          3,757   \n",
       "3                                18,726                          8,426   \n",
       "4                                 8,120                          2,242   \n",
       "\n",
       "  Some college (1-3 years), 1970  ...  \\\n",
       "0                     11,650,730  ...   \n",
       "1                        136,287  ...   \n",
       "2                            933  ...   \n",
       "3                          2,334  ...   \n",
       "4                            581  ...   \n",
       "\n",
       "  Percent of adults completing some college or associate's degree, 2007-11  \\\n",
       "0                                               28.6                         \n",
       "1                                               28.5                         \n",
       "2                                               29.8                         \n",
       "3                                               31.5                         \n",
       "4                                               25.5                         \n",
       "\n",
       "   Percent of adults with a bachelor's degree or higher 2007-11  \\\n",
       "0                                               28.2              \n",
       "1                                               22.0              \n",
       "2                                               21.6              \n",
       "3                                               27.2              \n",
       "4                                               13.9              \n",
       "\n",
       "   Less than a high school diploma, 2016-20  \\\n",
       "0                                25,562,680   \n",
       "1                                   438,947   \n",
       "2                                     4,273   \n",
       "3                                    14,823   \n",
       "4                                     4,497   \n",
       "\n",
       "   High school diploma only, 2016-20  \\\n",
       "0                         59,421,419   \n",
       "1                          1,014,342   \n",
       "2                             11,880   \n",
       "3                             42,272   \n",
       "4                              6,361   \n",
       "\n",
       "   Some college or associate's degree, 2016-20  \\\n",
       "0                                   64,496,416   \n",
       "1                                    1,013,673   \n",
       "2                                       10,986   \n",
       "3                                       48,832   \n",
       "4                                        4,872   \n",
       "\n",
       "  Bachelor's degree or higher, 2016-20  \\\n",
       "0                           73,356,319   \n",
       "1                              877,044   \n",
       "2                               10,721   \n",
       "3                               49,636   \n",
       "4                                2,067   \n",
       "\n",
       "  Percent of adults with less than a high school diploma, 2016-20  \\\n",
       "0                                               11.5                \n",
       "1                                               13.1                \n",
       "2                                               11.3                \n",
       "3                                                9.5                \n",
       "4                                               25.3                \n",
       "\n",
       "  Percent of adults with a high school diploma only, 2016-20  \\\n",
       "0                                               26.7           \n",
       "1                                               30.3           \n",
       "2                                               31.4           \n",
       "3                                               27.2           \n",
       "4                                               35.7           \n",
       "\n",
       "  Percent of adults completing some college or associate's degree, 2016-20  \\\n",
       "0                                               28.9                         \n",
       "1                                               30.3                         \n",
       "2                                               29.0                         \n",
       "3                                               31.4                         \n",
       "4                                               27.4                         \n",
       "\n",
       "   Percent of adults with a bachelor's degree or higher 2015-19  \n",
       "0                                               32.9             \n",
       "1                                               26.2             \n",
       "2                                               28.3             \n",
       "3                                               31.9             \n",
       "4                                               11.6             \n",
       "\n",
       "[5 rows x 55 columns]"
      ]
     },
     "execution_count": 3,
     "metadata": {},
     "output_type": "execute_result"
    }
   ],
   "source": [
    "# We set header = 5, since the column titles in the CSV file aren't specified until row 5.\n",
    "df = pandas.read_csv(\"Education.csv\", header = 5)\n",
    "\n",
    "df.head()"
   ]
  },
  {
   "cell_type": "markdown",
   "id": "90e24507-7ddf-449a-b3f4-f807b0dc09d2",
   "metadata": {},
   "source": [
    "Since this analysis is of the contiguous United States, we will eliminate data regarding Alaska, Hawaii, and Puerto Rico (this is done because the data on the county levels for these states is sparse). We will also eliminate the United States as an entry as well:"
   ]
  },
  {
   "cell_type": "code",
   "execution_count": 4,
   "id": "1fc53562-e440-4b32-80fd-4f308a6fa4ab",
   "metadata": {},
   "outputs": [
    {
     "name": "stdout",
     "output_type": "stream",
     "text": [
      "['US' 'AL' 'AK' 'AZ' 'AR' 'CA' 'CO' 'CT' 'DE' 'DC' 'FL' 'GA' 'HI' 'ID'\n",
      " 'IL' 'IN' 'IA' 'KS' 'KY' 'LA' 'ME' 'MD' 'MA' 'MI' 'MN' 'MS' 'MO' 'MT'\n",
      " 'NE' 'NV' 'NH' 'NJ' 'NM' 'NY' 'NC' 'ND' 'OH' 'OK' 'OR' 'PA' 'RI' 'SC'\n",
      " 'SD' 'TN' 'TX' 'UT' 'VT' 'VA' 'WA' 'WV' 'WI' 'WY' 'PR']\n"
     ]
    }
   ],
   "source": [
    "print(df['State'].unique())"
   ]
  },
  {
   "cell_type": "code",
   "execution_count": 5,
   "id": "d9276f92-47eb-4ec5-83a2-a80675e4d5a0",
   "metadata": {},
   "outputs": [
    {
     "name": "stdout",
     "output_type": "stream",
     "text": [
      "['AL' 'AZ' 'AR' 'CA' 'CO' 'CT' 'DE' 'DC' 'FL' 'GA' 'ID' 'IL' 'IN' 'IA'\n",
      " 'KS' 'KY' 'LA' 'ME' 'MD' 'MA' 'MI' 'MN' 'MS' 'MO' 'MT' 'NE' 'NV' 'NH'\n",
      " 'NJ' 'NM' 'NY' 'NC' 'ND' 'OH' 'OK' 'OR' 'PA' 'RI' 'SC' 'SD' 'TN' 'TX'\n",
      " 'UT' 'VT' 'VA' 'WA' 'WV' 'WI' 'WY']\n"
     ]
    }
   ],
   "source": [
    "# We want to eliminate counties labeled in these 'states': 'US', 'AK', 'HI', and 'PR'.\n",
    "df.drop(df[(df['State'] == 'AK') | (df['State'] == 'HI') | (df['State'] == 'US') | (df['State'] == 'PR')].index, inplace=True)\n",
    "\n",
    "print(df['State'].unique())"
   ]
  },
  {
   "cell_type": "markdown",
   "id": "959539ba-16e5-4810-bade-18e89f1b3ea5",
   "metadata": {},
   "source": [
    "Now, we want to get rid of all the state rows, since this analysis will be at the county level. The state rows are the only rows with 'NaN' under the '2003 Rural-urban Continuum Code' column, so we will omit any null entries in that column."
   ]
  },
  {
   "cell_type": "code",
   "execution_count": 6,
   "id": "2d372fd9-e704-4ba7-98ec-1f33d621cda3",
   "metadata": {},
   "outputs": [
    {
     "name": "stdout",
     "output_type": "stream",
     "text": [
      "Rows Deleted: 49\n"
     ]
    }
   ],
   "source": [
    "rows_before_delete = len(df)\n",
    "df = df.dropna(subset = ['2003 Rural-urban Continuum Code'])\n",
    "rows_deleted = rows_before_delete - len(df)\n",
    "print('Rows Deleted: {}'.format(rows_deleted))"
   ]
  },
  {
   "cell_type": "markdown",
   "id": "31b1fb4f-902b-44e4-bf97-1cace5278f16",
   "metadata": {},
   "source": [
    "49 rows were deleted-- the 49 contiguous state entries (including DC). Now our independant variable dataset only holds county data. Finally, to finish cleaning the dataset, we can eliminate the irrelevant columns:"
   ]
  },
  {
   "cell_type": "code",
   "execution_count": 7,
   "id": "422db615-257c-4fe7-a51c-b8c7ebdefa4c",
   "metadata": {},
   "outputs": [
    {
     "data": {
      "text/html": [
       "<div>\n",
       "<style scoped>\n",
       "    .dataframe tbody tr th:only-of-type {\n",
       "        vertical-align: middle;\n",
       "    }\n",
       "\n",
       "    .dataframe tbody tr th {\n",
       "        vertical-align: top;\n",
       "    }\n",
       "\n",
       "    .dataframe thead th {\n",
       "        text-align: right;\n",
       "    }\n",
       "</style>\n",
       "<table border=\"1\" class=\"dataframe\">\n",
       "  <thead>\n",
       "    <tr style=\"text-align: right;\">\n",
       "      <th></th>\n",
       "      <th>Federal Information Processing Standard (FIPS) Code</th>\n",
       "      <th>State</th>\n",
       "      <th>Area name</th>\n",
       "      <th>Percent of adults with less than a high school diploma, 1970</th>\n",
       "      <th>Percent of adults with a high school diploma only, 1970</th>\n",
       "      <th>Percent of adults completing some college (1-3 years), 1970</th>\n",
       "      <th>Percent of adults completing four years of college or higher, 1970</th>\n",
       "      <th>Percent of adults with less than a high school diploma, 1980</th>\n",
       "      <th>Percent of adults with a high school diploma only, 1980</th>\n",
       "      <th>Percent of adults completing some college (1-3 years), 1980</th>\n",
       "      <th>...</th>\n",
       "      <th>Percent of adults completing some college or associate's degree, 2000</th>\n",
       "      <th>Percent of adults with a bachelor's degree or higher, 2000</th>\n",
       "      <th>Percent of adults with less than a high school diploma, 2007-11</th>\n",
       "      <th>Percent of adults with a high school diploma only, 2007-11</th>\n",
       "      <th>Percent of adults completing some college or associate's degree, 2007-11</th>\n",
       "      <th>Percent of adults with a bachelor's degree or higher 2007-11</th>\n",
       "      <th>Percent of adults with less than a high school diploma, 2016-20</th>\n",
       "      <th>Percent of adults with a high school diploma only, 2016-20</th>\n",
       "      <th>Percent of adults completing some college or associate's degree, 2016-20</th>\n",
       "      <th>Percent of adults with a bachelor's degree or higher 2015-19</th>\n",
       "    </tr>\n",
       "  </thead>\n",
       "  <tbody>\n",
       "    <tr>\n",
       "      <th>2</th>\n",
       "      <td>1001</td>\n",
       "      <td>AL</td>\n",
       "      <td>Autauga County</td>\n",
       "      <td>54.8</td>\n",
       "      <td>31.1</td>\n",
       "      <td>7.7</td>\n",
       "      <td>6.4</td>\n",
       "      <td>40.6</td>\n",
       "      <td>35.2</td>\n",
       "      <td>12.1</td>\n",
       "      <td>...</td>\n",
       "      <td>26.9</td>\n",
       "      <td>18.0</td>\n",
       "      <td>13.5</td>\n",
       "      <td>35.0</td>\n",
       "      <td>29.8</td>\n",
       "      <td>21.6</td>\n",
       "      <td>11.3</td>\n",
       "      <td>31.4</td>\n",
       "      <td>29.0</td>\n",
       "      <td>28.3</td>\n",
       "    </tr>\n",
       "    <tr>\n",
       "      <th>3</th>\n",
       "      <td>1003</td>\n",
       "      <td>AL</td>\n",
       "      <td>Baldwin County</td>\n",
       "      <td>59.4</td>\n",
       "      <td>26.7</td>\n",
       "      <td>7.4</td>\n",
       "      <td>6.5</td>\n",
       "      <td>39.7</td>\n",
       "      <td>33.7</td>\n",
       "      <td>14.5</td>\n",
       "      <td>...</td>\n",
       "      <td>29.3</td>\n",
       "      <td>23.1</td>\n",
       "      <td>12.1</td>\n",
       "      <td>29.1</td>\n",
       "      <td>31.5</td>\n",
       "      <td>27.2</td>\n",
       "      <td>9.5</td>\n",
       "      <td>27.2</td>\n",
       "      <td>31.4</td>\n",
       "      <td>31.9</td>\n",
       "    </tr>\n",
       "    <tr>\n",
       "      <th>4</th>\n",
       "      <td>1005</td>\n",
       "      <td>AL</td>\n",
       "      <td>Barbour County</td>\n",
       "      <td>68.8</td>\n",
       "      <td>19.0</td>\n",
       "      <td>4.9</td>\n",
       "      <td>7.3</td>\n",
       "      <td>55.1</td>\n",
       "      <td>26.1</td>\n",
       "      <td>9.7</td>\n",
       "      <td>...</td>\n",
       "      <td>21.3</td>\n",
       "      <td>10.9</td>\n",
       "      <td>27.6</td>\n",
       "      <td>33.0</td>\n",
       "      <td>25.5</td>\n",
       "      <td>13.9</td>\n",
       "      <td>25.3</td>\n",
       "      <td>35.7</td>\n",
       "      <td>27.4</td>\n",
       "      <td>11.6</td>\n",
       "    </tr>\n",
       "    <tr>\n",
       "      <th>5</th>\n",
       "      <td>1007</td>\n",
       "      <td>AL</td>\n",
       "      <td>Bibb County</td>\n",
       "      <td>73.1</td>\n",
       "      <td>19.4</td>\n",
       "      <td>3.3</td>\n",
       "      <td>4.2</td>\n",
       "      <td>59.5</td>\n",
       "      <td>29.6</td>\n",
       "      <td>6.1</td>\n",
       "      <td>...</td>\n",
       "      <td>20.4</td>\n",
       "      <td>7.1</td>\n",
       "      <td>24.1</td>\n",
       "      <td>41.9</td>\n",
       "      <td>24.1</td>\n",
       "      <td>9.8</td>\n",
       "      <td>19.1</td>\n",
       "      <td>45.1</td>\n",
       "      <td>24.5</td>\n",
       "      <td>11.3</td>\n",
       "    </tr>\n",
       "    <tr>\n",
       "      <th>6</th>\n",
       "      <td>1009</td>\n",
       "      <td>AL</td>\n",
       "      <td>Blount County</td>\n",
       "      <td>70.5</td>\n",
       "      <td>22.7</td>\n",
       "      <td>4.1</td>\n",
       "      <td>2.7</td>\n",
       "      <td>53.9</td>\n",
       "      <td>32.4</td>\n",
       "      <td>8.4</td>\n",
       "      <td>...</td>\n",
       "      <td>24.8</td>\n",
       "      <td>9.6</td>\n",
       "      <td>26.8</td>\n",
       "      <td>36.0</td>\n",
       "      <td>25.9</td>\n",
       "      <td>11.3</td>\n",
       "      <td>17.2</td>\n",
       "      <td>35.1</td>\n",
       "      <td>34.5</td>\n",
       "      <td>13.3</td>\n",
       "    </tr>\n",
       "  </tbody>\n",
       "</table>\n",
       "<p>5 rows × 27 columns</p>\n",
       "</div>"
      ],
      "text/plain": [
       "   Federal Information Processing Standard (FIPS) Code State       Area name  \\\n",
       "2                                               1001      AL  Autauga County   \n",
       "3                                               1003      AL  Baldwin County   \n",
       "4                                               1005      AL  Barbour County   \n",
       "5                                               1007      AL     Bibb County   \n",
       "6                                               1009      AL   Blount County   \n",
       "\n",
       "   Percent of adults with less than a high school diploma, 1970  \\\n",
       "2                                               54.8              \n",
       "3                                               59.4              \n",
       "4                                               68.8              \n",
       "5                                               73.1              \n",
       "6                                               70.5              \n",
       "\n",
       "   Percent of adults with a high school diploma only, 1970  \\\n",
       "2                                               31.1         \n",
       "3                                               26.7         \n",
       "4                                               19.0         \n",
       "5                                               19.4         \n",
       "6                                               22.7         \n",
       "\n",
       "   Percent of adults completing some college (1-3 years), 1970  \\\n",
       "2                                                7.7             \n",
       "3                                                7.4             \n",
       "4                                                4.9             \n",
       "5                                                3.3             \n",
       "6                                                4.1             \n",
       "\n",
       "   Percent of adults completing four years of college or higher, 1970  \\\n",
       "2                                                6.4                    \n",
       "3                                                6.5                    \n",
       "4                                                7.3                    \n",
       "5                                                4.2                    \n",
       "6                                                2.7                    \n",
       "\n",
       "   Percent of adults with less than a high school diploma, 1980  \\\n",
       "2                                               40.6              \n",
       "3                                               39.7              \n",
       "4                                               55.1              \n",
       "5                                               59.5              \n",
       "6                                               53.9              \n",
       "\n",
       "   Percent of adults with a high school diploma only, 1980  \\\n",
       "2                                               35.2         \n",
       "3                                               33.7         \n",
       "4                                               26.1         \n",
       "5                                               29.6         \n",
       "6                                               32.4         \n",
       "\n",
       "   Percent of adults completing some college (1-3 years), 1980  ...  \\\n",
       "2                                               12.1            ...   \n",
       "3                                               14.5            ...   \n",
       "4                                                9.7            ...   \n",
       "5                                                6.1            ...   \n",
       "6                                                8.4            ...   \n",
       "\n",
       "   Percent of adults completing some college or associate's degree, 2000  \\\n",
       "2                                               26.9                       \n",
       "3                                               29.3                       \n",
       "4                                               21.3                       \n",
       "5                                               20.4                       \n",
       "6                                               24.8                       \n",
       "\n",
       "   Percent of adults with a bachelor's degree or higher, 2000  \\\n",
       "2                                               18.0            \n",
       "3                                               23.1            \n",
       "4                                               10.9            \n",
       "5                                                7.1            \n",
       "6                                                9.6            \n",
       "\n",
       "   Percent of adults with less than a high school diploma, 2007-11  \\\n",
       "2                                               13.5                 \n",
       "3                                               12.1                 \n",
       "4                                               27.6                 \n",
       "5                                               24.1                 \n",
       "6                                               26.8                 \n",
       "\n",
       "   Percent of adults with a high school diploma only, 2007-11  \\\n",
       "2                                               35.0            \n",
       "3                                               29.1            \n",
       "4                                               33.0            \n",
       "5                                               41.9            \n",
       "6                                               36.0            \n",
       "\n",
       "   Percent of adults completing some college or associate's degree, 2007-11  \\\n",
       "2                                               29.8                          \n",
       "3                                               31.5                          \n",
       "4                                               25.5                          \n",
       "5                                               24.1                          \n",
       "6                                               25.9                          \n",
       "\n",
       "   Percent of adults with a bachelor's degree or higher 2007-11  \\\n",
       "2                                               21.6              \n",
       "3                                               27.2              \n",
       "4                                               13.9              \n",
       "5                                                9.8              \n",
       "6                                               11.3              \n",
       "\n",
       "   Percent of adults with less than a high school diploma, 2016-20  \\\n",
       "2                                               11.3                 \n",
       "3                                                9.5                 \n",
       "4                                               25.3                 \n",
       "5                                               19.1                 \n",
       "6                                               17.2                 \n",
       "\n",
       "   Percent of adults with a high school diploma only, 2016-20  \\\n",
       "2                                               31.4            \n",
       "3                                               27.2            \n",
       "4                                               35.7            \n",
       "5                                               45.1            \n",
       "6                                               35.1            \n",
       "\n",
       "   Percent of adults completing some college or associate's degree, 2016-20  \\\n",
       "2                                               29.0                          \n",
       "3                                               31.4                          \n",
       "4                                               27.4                          \n",
       "5                                               24.5                          \n",
       "6                                               34.5                          \n",
       "\n",
       "   Percent of adults with a bachelor's degree or higher 2015-19  \n",
       "2                                               28.3             \n",
       "3                                               31.9             \n",
       "4                                               11.6             \n",
       "5                                               11.3             \n",
       "6                                               13.3             \n",
       "\n",
       "[5 rows x 27 columns]"
      ]
     },
     "execution_count": 7,
     "metadata": {},
     "output_type": "execute_result"
    }
   ],
   "source": [
    "# First, the data irrelevant to the analysis:\n",
    "df = df.drop(['2003 Rural-urban Continuum Code', '2003 Urban Influence Code', '2013 Rural-urban Continuum Code', '2013 Urban Influence Code'], axis = 1)\n",
    "# Next, the raw counts for each educational category per year:\n",
    "df = df.drop(df.columns[[3, 4, 5, 6, 11, 12, 13, 14, 19, 20, 21, 22, 27, 28, 29, 30, 35, 36, 37, 38, 43, 44, 45, 46]], axis = 1)\n",
    "df.head()"
   ]
  },
  {
   "cell_type": "markdown",
   "id": "7765950a-c69b-41b8-8b0a-2009826e6577",
   "metadata": {},
   "source": [
    "Now, that extraneous data is eliminated, let's restructure the dataset so that each entry represents a unique county-year combo; instead of having one row with all of a county's data from 1970-2020, each county will have six rows, one for each era (1970, 1980, 1990, 2000, 2010(2007-11), and 2020(2016-20))."
   ]
  },
  {
   "cell_type": "code",
   "execution_count": 8,
   "id": "afc29aad-17b0-4cd1-ac94-1eb4f5281188",
   "metadata": {},
   "outputs": [
    {
     "data": {
      "text/html": [
       "<div>\n",
       "<style scoped>\n",
       "    .dataframe tbody tr th:only-of-type {\n",
       "        vertical-align: middle;\n",
       "    }\n",
       "\n",
       "    .dataframe tbody tr th {\n",
       "        vertical-align: top;\n",
       "    }\n",
       "\n",
       "    .dataframe thead th {\n",
       "        text-align: right;\n",
       "    }\n",
       "</style>\n",
       "<table border=\"1\" class=\"dataframe\">\n",
       "  <thead>\n",
       "    <tr style=\"text-align: right;\">\n",
       "      <th></th>\n",
       "      <th>FIPS Code</th>\n",
       "      <th>State</th>\n",
       "      <th>Name</th>\n",
       "      <th>Year</th>\n",
       "      <th>&lt; HS</th>\n",
       "      <th>= HS</th>\n",
       "      <th>&lt; Uni</th>\n",
       "      <th>= Uni</th>\n",
       "    </tr>\n",
       "  </thead>\n",
       "  <tbody>\n",
       "    <tr>\n",
       "      <th>0</th>\n",
       "      <td>1001</td>\n",
       "      <td>AL</td>\n",
       "      <td>Autauga County</td>\n",
       "      <td>1970</td>\n",
       "      <td>54.8</td>\n",
       "      <td>31.1</td>\n",
       "      <td>7.7</td>\n",
       "      <td>6.4</td>\n",
       "    </tr>\n",
       "    <tr>\n",
       "      <th>1</th>\n",
       "      <td>1001</td>\n",
       "      <td>AL</td>\n",
       "      <td>Autauga County</td>\n",
       "      <td>1980</td>\n",
       "      <td>40.6</td>\n",
       "      <td>35.2</td>\n",
       "      <td>12.1</td>\n",
       "      <td>12.1</td>\n",
       "    </tr>\n",
       "    <tr>\n",
       "      <th>2</th>\n",
       "      <td>1001</td>\n",
       "      <td>AL</td>\n",
       "      <td>Autauga County</td>\n",
       "      <td>1990</td>\n",
       "      <td>30.0</td>\n",
       "      <td>32.0</td>\n",
       "      <td>23.5</td>\n",
       "      <td>14.5</td>\n",
       "    </tr>\n",
       "    <tr>\n",
       "      <th>3</th>\n",
       "      <td>1001</td>\n",
       "      <td>AL</td>\n",
       "      <td>Autauga County</td>\n",
       "      <td>2000</td>\n",
       "      <td>21.3</td>\n",
       "      <td>33.8</td>\n",
       "      <td>26.9</td>\n",
       "      <td>18.0</td>\n",
       "    </tr>\n",
       "    <tr>\n",
       "      <th>4</th>\n",
       "      <td>1001</td>\n",
       "      <td>AL</td>\n",
       "      <td>Autauga County</td>\n",
       "      <td>2010</td>\n",
       "      <td>13.5</td>\n",
       "      <td>35.0</td>\n",
       "      <td>29.8</td>\n",
       "      <td>21.6</td>\n",
       "    </tr>\n",
       "    <tr>\n",
       "      <th>5</th>\n",
       "      <td>1001</td>\n",
       "      <td>AL</td>\n",
       "      <td>Autauga County</td>\n",
       "      <td>2020</td>\n",
       "      <td>11.3</td>\n",
       "      <td>31.4</td>\n",
       "      <td>29.0</td>\n",
       "      <td>28.3</td>\n",
       "    </tr>\n",
       "    <tr>\n",
       "      <th>6</th>\n",
       "      <td>1003</td>\n",
       "      <td>AL</td>\n",
       "      <td>Baldwin County</td>\n",
       "      <td>1970</td>\n",
       "      <td>59.4</td>\n",
       "      <td>26.7</td>\n",
       "      <td>7.4</td>\n",
       "      <td>6.5</td>\n",
       "    </tr>\n",
       "    <tr>\n",
       "      <th>7</th>\n",
       "      <td>1003</td>\n",
       "      <td>AL</td>\n",
       "      <td>Baldwin County</td>\n",
       "      <td>1980</td>\n",
       "      <td>39.7</td>\n",
       "      <td>33.7</td>\n",
       "      <td>14.5</td>\n",
       "      <td>12.1</td>\n",
       "    </tr>\n",
       "    <tr>\n",
       "      <th>8</th>\n",
       "      <td>1003</td>\n",
       "      <td>AL</td>\n",
       "      <td>Baldwin County</td>\n",
       "      <td>1990</td>\n",
       "      <td>26.8</td>\n",
       "      <td>31.8</td>\n",
       "      <td>24.6</td>\n",
       "      <td>16.8</td>\n",
       "    </tr>\n",
       "    <tr>\n",
       "      <th>9</th>\n",
       "      <td>1003</td>\n",
       "      <td>AL</td>\n",
       "      <td>Baldwin County</td>\n",
       "      <td>2000</td>\n",
       "      <td>18.0</td>\n",
       "      <td>29.6</td>\n",
       "      <td>29.3</td>\n",
       "      <td>23.1</td>\n",
       "    </tr>\n",
       "    <tr>\n",
       "      <th>10</th>\n",
       "      <td>1003</td>\n",
       "      <td>AL</td>\n",
       "      <td>Baldwin County</td>\n",
       "      <td>2010</td>\n",
       "      <td>12.1</td>\n",
       "      <td>29.1</td>\n",
       "      <td>31.5</td>\n",
       "      <td>27.2</td>\n",
       "    </tr>\n",
       "    <tr>\n",
       "      <th>11</th>\n",
       "      <td>1003</td>\n",
       "      <td>AL</td>\n",
       "      <td>Baldwin County</td>\n",
       "      <td>2020</td>\n",
       "      <td>9.5</td>\n",
       "      <td>27.2</td>\n",
       "      <td>31.4</td>\n",
       "      <td>31.9</td>\n",
       "    </tr>\n",
       "    <tr>\n",
       "      <th>12</th>\n",
       "      <td>1005</td>\n",
       "      <td>AL</td>\n",
       "      <td>Barbour County</td>\n",
       "      <td>1970</td>\n",
       "      <td>68.8</td>\n",
       "      <td>19.0</td>\n",
       "      <td>4.9</td>\n",
       "      <td>7.3</td>\n",
       "    </tr>\n",
       "    <tr>\n",
       "      <th>13</th>\n",
       "      <td>1005</td>\n",
       "      <td>AL</td>\n",
       "      <td>Barbour County</td>\n",
       "      <td>1980</td>\n",
       "      <td>55.1</td>\n",
       "      <td>26.1</td>\n",
       "      <td>9.7</td>\n",
       "      <td>9.2</td>\n",
       "    </tr>\n",
       "  </tbody>\n",
       "</table>\n",
       "</div>"
      ],
      "text/plain": [
       "   FIPS Code State            Name  Year  < HS  = HS < Uni = Uni\n",
       "0       1001    AL  Autauga County  1970  54.8  31.1   7.7   6.4\n",
       "1       1001    AL  Autauga County  1980  40.6  35.2  12.1  12.1\n",
       "2       1001    AL  Autauga County  1990  30.0  32.0  23.5  14.5\n",
       "3       1001    AL  Autauga County  2000  21.3  33.8  26.9  18.0\n",
       "4       1001    AL  Autauga County  2010  13.5  35.0  29.8  21.6\n",
       "5       1001    AL  Autauga County  2020  11.3  31.4  29.0  28.3\n",
       "6       1003    AL  Baldwin County  1970  59.4  26.7   7.4   6.5\n",
       "7       1003    AL  Baldwin County  1980  39.7  33.7  14.5  12.1\n",
       "8       1003    AL  Baldwin County  1990  26.8  31.8  24.6  16.8\n",
       "9       1003    AL  Baldwin County  2000  18.0  29.6  29.3  23.1\n",
       "10      1003    AL  Baldwin County  2010  12.1  29.1  31.5  27.2\n",
       "11      1003    AL  Baldwin County  2020   9.5  27.2  31.4  31.9\n",
       "12      1005    AL  Barbour County  1970  68.8  19.0   4.9   7.3\n",
       "13      1005    AL  Barbour County  1980  55.1  26.1   9.7   9.2"
      ]
     },
     "execution_count": 8,
     "metadata": {},
     "output_type": "execute_result"
    }
   ],
   "source": [
    "df_temp = df\n",
    "df = pandas.DataFrame({'FIPS Code': [],\n",
    "                      'State': [],\n",
    "                      'Name': [],\n",
    "                      'Year': [],\n",
    "                      '< HS': [],\n",
    "                      '= HS': [],\n",
    "                      '< Uni': [],\n",
    "                      '= Uni': []})\n",
    "\n",
    "for index, row in df_temp.iterrows():\n",
    "    prefix = row.to_numpy()[0 : 3]\n",
    "    seventies_data = row.to_numpy()[3 : 7]\n",
    "    eighties_data = row.to_numpy()[7 : 11]\n",
    "    nineties_data = row.to_numpy()[11 : 15]\n",
    "    aughts_data = row.to_numpy()[15 : 19]\n",
    "    seven_eleven_data = row.to_numpy()[19 : 23]\n",
    "    sixteen_twenty_data = row.to_numpy()[23 : 27]\n",
    "    \n",
    "    # Now add 6 new rows for every row in df, one for each time frame.\n",
    "    # 1970's:\n",
    "    tmp_row = numpy.append(prefix, 1970)\n",
    "    df.loc[len(df.index)] = numpy.append(tmp_row, seventies_data)\n",
    "    # 1980's:\n",
    "    tmp_row = numpy.append(prefix, 1980)\n",
    "    df.loc[len(df.index)] = numpy.append(tmp_row, eighties_data)\n",
    "    # 1990's:\n",
    "    tmp_row = numpy.append(prefix, 1990)\n",
    "    df.loc[len(df.index)] = numpy.append(tmp_row, nineties_data)\n",
    "    # 2000's:\n",
    "    tmp_row = numpy.append(prefix, 2000)\n",
    "    df.loc[len(df.index)] = numpy.append(tmp_row, aughts_data)\n",
    "    # We'll simplify 2007-2012 to the year 2010, for the purposes of keeping this column of type int:\n",
    "    tmp_row = numpy.append(prefix, 2010)\n",
    "    df.loc[len(df.index)] = numpy.append(tmp_row, seven_eleven_data)\n",
    "    # For the same reason as above, we'll denote 2016-2020 as 2020:\n",
    "    tmp_row = numpy.append(prefix, 2020)\n",
    "    df.loc[len(df.index)] = numpy.append(tmp_row, sixteen_twenty_data)\n",
    "\n",
    "df.head(14)"
   ]
  },
  {
   "cell_type": "markdown",
   "id": "43cbdfd0-0f82-43e1-be76-a741f2059a17",
   "metadata": {},
   "source": [
    "Note here the column name changes. Instead of long column titles, we will be using the following shorthand to refer to the county features:\n",
    "- Percent of adults with less than a high school diploma &#8594; **< HS**\n",
    "- Percent of adults with a high school diploma only &#8594; **= HS**\n",
    "- Percent of adults completing some college &#8594; **< Uni**\n",
    "- Percent of adults completing four years of college or higher &#8594; **= Uni**"
   ]
  },
  {
   "cell_type": "markdown",
   "id": "886457b2-04a4-4683-9404-de21be268ccb",
   "metadata": {},
   "source": [
    "Okay, our features are ready. Now, time to introduce the dependent variable: poverty data by county. I retrieved the datasets for this metric from the U.S. Census Bureau, and due to the size of the data, I was only able to download them seperately by decade. The datasets from 1970-2000 were retrieved [here](https://www.census.gov/data/tables/time-series/dec/census-poverty.html), and the data from 2012-2020 can be found [here](https://www.census.gov/data-tools/demo/saipe/#/?s_state=01,04,05,06,08,09,10,11,12,13,16,17,18,19,20,21,22,23,24,25,26,27,28,29,30,31,32,33,34,35,36,37,38,39,40,41,42,44,45,46,47,48,49,50,51,53,54,55,56&map_yearSelector=2020&s_county=&s_district=).\n",
    "\n",
    "Let's start by adding the data from 1970-2000 to the dataset. We are looking for the column *'Percent below poverty level'*, which contains the percent of the population for a given county which is under the poverty line."
   ]
  },
  {
   "cell_type": "code",
   "execution_count": 9,
   "id": "99badc86-9d6e-4a45-ab7e-b125cfb59205",
   "metadata": {},
   "outputs": [
    {
     "data": {
      "text/html": [
       "<div>\n",
       "<style scoped>\n",
       "    .dataframe tbody tr th:only-of-type {\n",
       "        vertical-align: middle;\n",
       "    }\n",
       "\n",
       "    .dataframe tbody tr th {\n",
       "        vertical-align: top;\n",
       "    }\n",
       "\n",
       "    .dataframe thead th {\n",
       "        text-align: right;\n",
       "    }\n",
       "</style>\n",
       "<table border=\"1\" class=\"dataframe\">\n",
       "  <thead>\n",
       "    <tr style=\"text-align: right;\">\n",
       "      <th></th>\n",
       "      <th>FIPS Code</th>\n",
       "      <th>State</th>\n",
       "      <th>Name</th>\n",
       "      <th>Year</th>\n",
       "      <th>&lt; HS</th>\n",
       "      <th>= HS</th>\n",
       "      <th>&lt; Uni</th>\n",
       "      <th>= Uni</th>\n",
       "      <th>% Poverty</th>\n",
       "    </tr>\n",
       "  </thead>\n",
       "  <tbody>\n",
       "    <tr>\n",
       "      <th>0</th>\n",
       "      <td>1001</td>\n",
       "      <td>AL</td>\n",
       "      <td>Autauga County</td>\n",
       "      <td>1970</td>\n",
       "      <td>54.8</td>\n",
       "      <td>31.1</td>\n",
       "      <td>7.7</td>\n",
       "      <td>6.4</td>\n",
       "      <td>23.70</td>\n",
       "    </tr>\n",
       "    <tr>\n",
       "      <th>1</th>\n",
       "      <td>1001</td>\n",
       "      <td>AL</td>\n",
       "      <td>Autauga County</td>\n",
       "      <td>1980</td>\n",
       "      <td>40.6</td>\n",
       "      <td>35.2</td>\n",
       "      <td>12.1</td>\n",
       "      <td>12.1</td>\n",
       "      <td>16.62</td>\n",
       "    </tr>\n",
       "    <tr>\n",
       "      <th>2</th>\n",
       "      <td>1001</td>\n",
       "      <td>AL</td>\n",
       "      <td>Autauga County</td>\n",
       "      <td>1990</td>\n",
       "      <td>30.0</td>\n",
       "      <td>32.0</td>\n",
       "      <td>23.5</td>\n",
       "      <td>14.5</td>\n",
       "      <td>15.70</td>\n",
       "    </tr>\n",
       "    <tr>\n",
       "      <th>3</th>\n",
       "      <td>1001</td>\n",
       "      <td>AL</td>\n",
       "      <td>Autauga County</td>\n",
       "      <td>2000</td>\n",
       "      <td>21.3</td>\n",
       "      <td>33.8</td>\n",
       "      <td>26.9</td>\n",
       "      <td>18.0</td>\n",
       "      <td>10.90</td>\n",
       "    </tr>\n",
       "    <tr>\n",
       "      <th>4</th>\n",
       "      <td>1001</td>\n",
       "      <td>AL</td>\n",
       "      <td>Autauga County</td>\n",
       "      <td>2010</td>\n",
       "      <td>13.5</td>\n",
       "      <td>35.0</td>\n",
       "      <td>29.8</td>\n",
       "      <td>21.6</td>\n",
       "      <td>12.70</td>\n",
       "    </tr>\n",
       "    <tr>\n",
       "      <th>5</th>\n",
       "      <td>1001</td>\n",
       "      <td>AL</td>\n",
       "      <td>Autauga County</td>\n",
       "      <td>2020</td>\n",
       "      <td>11.3</td>\n",
       "      <td>31.4</td>\n",
       "      <td>29.0</td>\n",
       "      <td>28.3</td>\n",
       "      <td>11.20</td>\n",
       "    </tr>\n",
       "    <tr>\n",
       "      <th>6</th>\n",
       "      <td>1003</td>\n",
       "      <td>AL</td>\n",
       "      <td>Baldwin County</td>\n",
       "      <td>1970</td>\n",
       "      <td>59.4</td>\n",
       "      <td>26.7</td>\n",
       "      <td>7.4</td>\n",
       "      <td>6.5</td>\n",
       "      <td>22.60</td>\n",
       "    </tr>\n",
       "    <tr>\n",
       "      <th>7</th>\n",
       "      <td>1003</td>\n",
       "      <td>AL</td>\n",
       "      <td>Baldwin County</td>\n",
       "      <td>1980</td>\n",
       "      <td>39.7</td>\n",
       "      <td>33.7</td>\n",
       "      <td>14.5</td>\n",
       "      <td>12.1</td>\n",
       "      <td>16.23</td>\n",
       "    </tr>\n",
       "    <tr>\n",
       "      <th>8</th>\n",
       "      <td>1003</td>\n",
       "      <td>AL</td>\n",
       "      <td>Baldwin County</td>\n",
       "      <td>1990</td>\n",
       "      <td>26.8</td>\n",
       "      <td>31.8</td>\n",
       "      <td>24.6</td>\n",
       "      <td>16.8</td>\n",
       "      <td>14.30</td>\n",
       "    </tr>\n",
       "    <tr>\n",
       "      <th>9</th>\n",
       "      <td>1003</td>\n",
       "      <td>AL</td>\n",
       "      <td>Baldwin County</td>\n",
       "      <td>2000</td>\n",
       "      <td>18.0</td>\n",
       "      <td>29.6</td>\n",
       "      <td>29.3</td>\n",
       "      <td>23.1</td>\n",
       "      <td>10.10</td>\n",
       "    </tr>\n",
       "  </tbody>\n",
       "</table>\n",
       "</div>"
      ],
      "text/plain": [
       "  FIPS Code State            Name  Year  < HS  = HS < Uni = Uni  % Poverty\n",
       "0      1001    AL  Autauga County  1970  54.8  31.1   7.7   6.4      23.70\n",
       "1      1001    AL  Autauga County  1980  40.6  35.2  12.1  12.1      16.62\n",
       "2      1001    AL  Autauga County  1990  30.0  32.0  23.5  14.5      15.70\n",
       "3      1001    AL  Autauga County  2000  21.3  33.8  26.9  18.0      10.90\n",
       "4      1001    AL  Autauga County  2010  13.5  35.0  29.8  21.6      12.70\n",
       "5      1001    AL  Autauga County  2020  11.3  31.4  29.0  28.3      11.20\n",
       "6      1003    AL  Baldwin County  1970  59.4  26.7   7.4   6.5      22.60\n",
       "7      1003    AL  Baldwin County  1980  39.7  33.7  14.5  12.1      16.23\n",
       "8      1003    AL  Baldwin County  1990  26.8  31.8  24.6  16.8      14.30\n",
       "9      1003    AL  Baldwin County  2000  18.0  29.6  29.3  23.1      10.10"
      ]
     },
     "execution_count": 9,
     "metadata": {},
     "output_type": "execute_result"
    }
   ],
   "source": [
    "new_col = numpy.full(len(df), numpy.nan)\n",
    "df.insert(8, '% Poverty', new_col, True)\n",
    "\n",
    "seventies_poverty = pandas.read_csv('1970_Poverty.csv', header = 4, dtype = {'Percent below poverty level': numpy.float64}, na_values = {\"-\", '…'})\n",
    "seventies_poverty = seventies_poverty.dropna(subset = ['State/ County Codes'])\n",
    "\n",
    "eighties_poverty = pandas.read_csv('1980_Poverty.csv', header = 4, dtype = {'Percent below poverty level': numpy.float64}, na_values = {\"-\", '…'})\n",
    "eighties_poverty = eighties_poverty.dropna(subset = ['State/ County Codes'])\n",
    "\n",
    "# For some reason, the 90's poverty dataset is formatted differently, with a ranking of high-to-low poverty counties at the beginning and end of the file, and data grouped\n",
    "# by state in between. To avoid duplicate entries, we'll adjust the header parameter in read_csv(), and use the skipfooter option to cut out the bottom of the file.\n",
    "nineties_poverty = pandas.read_csv('1990_Poverty.csv', header = 3154, skipfooter = 3383, engine = 'python', dtype = {'Percent below poverty level': numpy.float64}, na_values = {\"-\", '…'})\n",
    "nineties_poverty = nineties_poverty.dropna(subset = ['State/ County Codes'])\n",
    "\n",
    "aughts_poverty = pandas.read_csv('2000_Poverty.csv', header = 4, dtype = {'Percent below poverty level': numpy.float64}, na_values = {\"-\", '…'})\n",
    "aughts_poverty = aughts_poverty.dropna(subset = ['State/ County Codes'])\n",
    "\n",
    "twelve_twenty_poverty = pandas.read_csv('2012-20_Poverty.csv', dtype = {'Percent in Poverty': numpy.float64}, na_values = {\"-\", '…'})\n",
    "\n",
    "for index, row in df.iterrows():\n",
    "    if (row['Year'] == 1970):\n",
    "        dat = seventies_poverty.loc[seventies_poverty['State/ County Codes'] == row['FIPS Code']]['Percent below poverty level'].values\n",
    "        if (len(dat >= 1)):\n",
    "            df.at[index, '% Poverty'] = dat[0]\n",
    "    if (row['Year'] == 1980):\n",
    "        dat = eighties_poverty.loc[eighties_poverty['State/ County Codes'] == row['FIPS Code']]['Percent below poverty level'].values\n",
    "        if (len(dat >= 1)):\n",
    "            df.at[index, '% Poverty'] = dat[0]\n",
    "    if (row['Year'] == 1990):\n",
    "        dat = nineties_poverty.loc[nineties_poverty['State/ County Codes'] == row['FIPS Code']]['Percent below poverty level'].values\n",
    "        if (len(dat >= 1)):\n",
    "            df.at[index, '% Poverty'] = dat[0]\n",
    "    if (row['Year'] == 2000):\n",
    "        dat = aughts_poverty.loc[aughts_poverty['State/ County Codes'] == row['FIPS Code']]['Percent below poverty level'].values\n",
    "        if (len(dat >= 1)):\n",
    "            df.at[index, '% Poverty'] = dat[0]\n",
    "    if (row['Year'] == 2010):\n",
    "        dat = twelve_twenty_poverty.loc[(twelve_twenty_poverty['ID'] == row['FIPS Code']) & (twelve_twenty_poverty['Year'] == 2012)]['Percent in Poverty'].values\n",
    "        if (len(dat >= 1)):\n",
    "            df.at[index, '% Poverty'] = dat[0]\n",
    "    if (row['Year'] == 2020):\n",
    "        dat = twelve_twenty_poverty.loc[(twelve_twenty_poverty['ID'] == row['FIPS Code']) & (twelve_twenty_poverty['Year'] == 2020)]['Percent in Poverty'].values\n",
    "        if (len(dat >= 1)):\n",
    "            df.at[index, '% Poverty'] = dat[0]\n",
    "\n",
    "df.head(10)"
   ]
  },
  {
   "cell_type": "code",
   "execution_count": 10,
   "id": "a2eaedc7-cbbd-4af5-b8e1-c232b409d3f6",
   "metadata": {},
   "outputs": [
    {
     "name": "stdout",
     "output_type": "stream",
     "text": [
      "Deleted Rows w/ NaN: 96\n"
     ]
    }
   ],
   "source": [
    "old_rows = len(df)\n",
    "# Delete counties with NaN in any year's '% Poverty' column-- counties from the Education file with missing data in the Poverty files.\n",
    "for index, row in df.iterrows():\n",
    "    if (numpy.isnan(row['% Poverty'])):\n",
    "        df = df[df['FIPS Code'] != row['FIPS Code']]\n",
    "print('Deleted Rows w/ NaN: {}'.format((old_rows - len(df))))"
   ]
  },
  {
   "cell_type": "markdown",
   "id": "99d2ff05-0198-406d-963c-814434af7628",
   "metadata": {},
   "source": [
    "Now our dataset is ready for representation and analysis!"
   ]
  },
  {
   "cell_type": "markdown",
   "id": "fb606704-137f-4878-9ea6-a8582f2669e3",
   "metadata": {
    "tags": []
   },
   "source": [
    "### 3. Data Analysis and Hypothesis Testing #\n",
    "To explore which mode of education has the most significant impact on rate of poverty in a county, we will plot the data entered above.<br>"
   ]
  },
  {
   "cell_type": "markdown",
   "id": "0f1345b1-90fe-4dc0-b8ef-1950bcf9aa45",
   "metadata": {
    "tags": []
   },
   "source": [
    "Before we start, lets import our data visualization packages:"
   ]
  },
  {
   "cell_type": "code",
   "execution_count": 12,
   "id": "ddcc0c6b-3eef-4299-82a7-630c34c0e3ee",
   "metadata": {},
   "outputs": [],
   "source": [
    "import matplotlib.pyplot as plt\n",
    "from importlib import reload\n",
    "import statsmodels.api as sm"
   ]
  },
  {
   "cell_type": "markdown",
   "id": "62fdc193-4742-4a40-9d49-14cebc4b7299",
   "metadata": {},
   "source": [
    "The first thing we should identify from the data is the effect of year on poverty rates. Did certain years/eras experience outside factors which influenced the impact of educational levels on poverty rates? If there appears to be no general relationship between year and poverty, then we can compare county data across years equally. However, if the year does influence the distribution of poverty, we may have to create an interaction term for year.<br>\n",
    "\n",
    "To visualize the effect of year on poverty, we'll implement a violin plot:"
   ]
  },
  {
   "cell_type": "code",
   "execution_count": 13,
   "id": "36848389-06c0-4a19-8f35-2ad32139e8df",
   "metadata": {},
   "outputs": [
    {
     "data": {
      "text/plain": [
       "Text(0.5, 1.0, '% of County Population in Poverty by Year')"
      ]
     },
     "execution_count": 13,
     "metadata": {},
     "output_type": "execute_result"
    },
    {
     "data": {
      "image/png": "[encoded data removed]",
      "text/plain": [
       "<Figure size 432x288 with 1 Axes>"
      ]
     },
     "metadata": {
      "needs_background": "light"
     },
     "output_type": "display_data"
    }
   ],
   "source": [
    "pov_per_year = []\n",
    "for index in [1970, 1980, 1990, 2000, 2010, 2020]:\n",
    "    data_by_year = df.loc[df['Year'] == index]\n",
    "    arr = data_by_year['% Poverty'].values\n",
    "    pov_per_year.append(arr)\n",
    "\n",
    "plt = reload(plt)\n",
    "fig, ax = plt.subplots()\n",
    "ax.violinplot(pov_per_year,df['Year'].unique(),widths=4,showmeans=True)\n",
    "ax.set_xlabel(\"Year\")\n",
    "ax.set_ylabel(\"% in Poverty\")\n",
    "ax.set_title(\"% of County Population in Poverty by Year\")"
   ]
  },
  {
   "cell_type": "markdown",
   "id": "3feb13ad-d92f-4208-a02b-b30a01d103ca",
   "metadata": {},
   "source": [
    "Looking at the shape of the distribution, each year seems to be skewed to the right for percentage of poverty; a small number of counties each year are extraordinarily high in poverty. This indicates that the mean-- the center line in each violin plot-- may be a slightly less reliable measure of central tendency than the median. Let's re-render the plot, but showing the medians:"
   ]
  },
  {
   "cell_type": "code",
   "execution_count": 14,
   "id": "744eed0c-e507-4dee-879d-590ea4bc6bbb",
   "metadata": {},
   "outputs": [
    {
     "data": {
      "text/plain": [
       "Text(0.5, 1.0, '% of County Population in Poverty by Year')"
      ]
     },
     "execution_count": 14,
     "metadata": {},
     "output_type": "execute_result"
    },
    {
     "data": {
      "image/png": "[encoded data removed]",
      "text/plain": [
       "<Figure size 432x288 with 1 Axes>"
      ]
     },
     "metadata": {
      "needs_background": "light"
     },
     "output_type": "display_data"
    }
   ],
   "source": [
    "plt = reload(plt)\n",
    "fig, ax = plt.subplots()\n",
    "ax.violinplot(pov_per_year,df['Year'].unique(),widths=4,showmeans=False,showmedians=True)\n",
    "ax.set_xlabel(\"Year\")\n",
    "ax.set_ylabel(\"% in Poverty\")\n",
    "ax.set_title(\"% of County Population in Poverty by Year\")"
   ]
  },
  {
   "cell_type": "markdown",
   "id": "88a2c385-05f9-48c0-a02b-43804101a939",
   "metadata": {},
   "source": [
    "It looks as if there is little general influence on the distribution of poverty rates between years. The median does not demonstrate a trend in any particular direction between the years, and the distribution stays largely the same. To be sure, though, let's fit a line of regression on the plot."
   ]
  },
  {
   "cell_type": "code",
   "execution_count": 15,
   "id": "2ae6c058-90e2-4f17-a779-a8db57518725",
   "metadata": {},
   "outputs": [
    {
     "name": "stdout",
     "output_type": "stream",
     "text": [
      "Slope: -0.09693872144011059\n"
     ]
    },
    {
     "data": {
      "image/png": "[encoded data removed]",
      "text/plain": [
       "<Figure size 432x288 with 1 Axes>"
      ]
     },
     "metadata": {
      "needs_background": "light"
     },
     "output_type": "display_data"
    }
   ],
   "source": [
    "plt = reload(plt)\n",
    "fig, ax = plt.subplots()\n",
    "ax.violinplot(pov_per_year,df['Year'].unique(),widths=4,showmeans=False,showmedians=True)\n",
    "ax.set_xlabel(\"Year\")\n",
    "ax.set_ylabel(\"% in Poverty\")\n",
    "ax.set_title(\"% of County Population in Poverty by Year\")\n",
    "m, b = numpy.polyfit(list(df['Year'].values), list(df['% Poverty'].values), 1)\n",
    "plt.plot(df['Year'].values, m*(df['Year'].values)+b)\n",
    "\n",
    "print('Slope: {}'.format(m))"
   ]
  },
  {
   "cell_type": "markdown",
   "id": "34f3e528-4052-4bd4-bd40-665fa9f8f364",
   "metadata": {},
   "source": [
    "Okay, the line of regression is slightly sloped downwards-- we can verify this because the value of 'm', the slope, is negative: -0.09693. This suggests that % Poverty within counties, from our data, is slightly decreasing. However, is it decreasing at such a rate by year that we need to account for year when comparing two points? Let's do a hypothesis test:"
   ]
  },
  {
   "cell_type": "code",
   "execution_count": 16,
   "id": "148c1e5f-18f3-4b8e-a9f6-b65847b9af87",
   "metadata": {},
   "outputs": [],
   "source": [
    "# It turns out that '%' in variable names is read as the modulo operator, and causes statsmodels (ols) to throw an AssertionError. To avoid this issue moving forward, I'll\n",
    "# replace the column name appropriately. We'll fix all symbol-related column names as well.\n",
    "df.rename(columns={'% Poverty': 'Percent_Poverty'}, inplace=True)\n",
    "df.rename(columns={'< HS': 'less_HS'}, inplace=True)\n",
    "df.rename(columns={'= HS': 'eq_HS'}, inplace=True)\n",
    "df.rename(columns={'< Uni': 'less_Uni'}, inplace=True)\n",
    "df.rename(columns={'= Uni': 'eq_Uni'}, inplace=True)\n",
    "\n",
    "# Also, quick fix to the typing of the columns for use of statsmodels:\n",
    "df['Percent_Poverty'] = df['Percent_Poverty'].values.astype('float64')\n",
    "df['Year'] = df['Year'].values.astype('int')"
   ]
  },
  {
   "cell_type": "code",
   "execution_count": 17,
   "id": "81cf0c4d-bd57-4104-a028-6d185a9d1a40",
   "metadata": {},
   "outputs": [
    {
     "name": "stdout",
     "output_type": "stream",
     "text": [
      "                            OLS Regression Results                            \n",
      "==============================================================================\n",
      "Dep. Variable:                      y   R-squared:                       0.042\n",
      "Model:                            OLS   Adj. R-squared:                  0.042\n",
      "Method:                 Least Squares   F-statistic:                     824.0\n",
      "Date:                Fri, 16 Dec 2022   Prob (F-statistic):          2.44e-177\n",
      "Time:                        23:37:54   Log-Likelihood:                -64635.\n",
      "No. Observations:               18570   AIC:                         1.293e+05\n",
      "Df Residuals:                   18568   BIC:                         1.293e+05\n",
      "Df Model:                           1                                         \n",
      "Covariance Type:            nonrobust                                         \n",
      "==============================================================================\n",
      "                 coef    std err          t      P>|t|      [0.025      0.975]\n",
      "------------------------------------------------------------------------------\n",
      "const        209.8221      6.738     31.142      0.000     196.616     223.028\n",
      "x1            -0.0969      0.003    -28.705      0.000      -0.104      -0.090\n",
      "==============================================================================\n",
      "Omnibus:                     4601.651   Durbin-Watson:                   0.637\n",
      "Prob(Omnibus):                  0.000   Jarque-Bera (JB):            12247.951\n",
      "Skew:                           1.332   Prob(JB):                         0.00\n",
      "Kurtosis:                       5.955   Cond. No.                     2.33e+05\n",
      "==============================================================================\n",
      "\n",
      "Notes:\n",
      "[1] Standard Errors assume that the covariance matrix of the errors is correctly specified.\n",
      "[2] The condition number is large, 2.33e+05. This might indicate that there are\n",
      "strong multicollinearity or other numerical problems.\n"
     ]
    }
   ],
   "source": [
    "Y = df['Percent_Poverty'].values\n",
    "X = df['Year'].values\n",
    "X = sm.add_constant(X)\n",
    "\n",
    "\n",
    "model = sm.OLS(Y, X)\n",
    "results = model.fit()\n",
    "print(results.summary())"
   ]
  },
  {
   "cell_type": "markdown",
   "id": "3ea8fece-fd62-42ad-af73-d6febea3a202",
   "metadata": {},
   "source": [
    "With a P value of 0, it looks like year does have an influence on the total percent of poverty by county. To fix this, we will normalize the percent of poverty for each county/year combo by subtracting it's poverty rate by the average poverty rate of that year."
   ]
  },
  {
   "cell_type": "code",
   "execution_count": 18,
   "id": "30450302-6b7f-4225-9bca-c28113938ee6",
   "metadata": {},
   "outputs": [
    {
     "data": {
      "text/html": [
       "<div>\n",
       "<style scoped>\n",
       "    .dataframe tbody tr th:only-of-type {\n",
       "        vertical-align: middle;\n",
       "    }\n",
       "\n",
       "    .dataframe tbody tr th {\n",
       "        vertical-align: top;\n",
       "    }\n",
       "\n",
       "    .dataframe thead th {\n",
       "        text-align: right;\n",
       "    }\n",
       "</style>\n",
       "<table border=\"1\" class=\"dataframe\">\n",
       "  <thead>\n",
       "    <tr style=\"text-align: right;\">\n",
       "      <th></th>\n",
       "      <th>FIPS Code</th>\n",
       "      <th>State</th>\n",
       "      <th>Name</th>\n",
       "      <th>Year</th>\n",
       "      <th>less_HS</th>\n",
       "      <th>eq_HS</th>\n",
       "      <th>less_Uni</th>\n",
       "      <th>eq_Uni</th>\n",
       "      <th>Percent_Poverty</th>\n",
       "      <th>Norm_Pov</th>\n",
       "    </tr>\n",
       "  </thead>\n",
       "  <tbody>\n",
       "    <tr>\n",
       "      <th>0</th>\n",
       "      <td>1001</td>\n",
       "      <td>AL</td>\n",
       "      <td>Autauga County</td>\n",
       "      <td>1970</td>\n",
       "      <td>54.8</td>\n",
       "      <td>31.1</td>\n",
       "      <td>7.7</td>\n",
       "      <td>6.4</td>\n",
       "      <td>23.70</td>\n",
       "      <td>2.801519</td>\n",
       "    </tr>\n",
       "    <tr>\n",
       "      <th>1</th>\n",
       "      <td>1001</td>\n",
       "      <td>AL</td>\n",
       "      <td>Autauga County</td>\n",
       "      <td>1980</td>\n",
       "      <td>40.6</td>\n",
       "      <td>35.2</td>\n",
       "      <td>12.1</td>\n",
       "      <td>12.1</td>\n",
       "      <td>16.62</td>\n",
       "      <td>0.825690</td>\n",
       "    </tr>\n",
       "    <tr>\n",
       "      <th>2</th>\n",
       "      <td>1001</td>\n",
       "      <td>AL</td>\n",
       "      <td>Autauga County</td>\n",
       "      <td>1990</td>\n",
       "      <td>30.0</td>\n",
       "      <td>32.0</td>\n",
       "      <td>23.5</td>\n",
       "      <td>14.5</td>\n",
       "      <td>15.70</td>\n",
       "      <td>-1.017577</td>\n",
       "    </tr>\n",
       "    <tr>\n",
       "      <th>3</th>\n",
       "      <td>1001</td>\n",
       "      <td>AL</td>\n",
       "      <td>Autauga County</td>\n",
       "      <td>2000</td>\n",
       "      <td>21.3</td>\n",
       "      <td>33.8</td>\n",
       "      <td>26.9</td>\n",
       "      <td>18.0</td>\n",
       "      <td>10.90</td>\n",
       "      <td>-3.273829</td>\n",
       "    </tr>\n",
       "    <tr>\n",
       "      <th>4</th>\n",
       "      <td>1001</td>\n",
       "      <td>AL</td>\n",
       "      <td>Autauga County</td>\n",
       "      <td>2010</td>\n",
       "      <td>13.5</td>\n",
       "      <td>35.0</td>\n",
       "      <td>29.8</td>\n",
       "      <td>21.6</td>\n",
       "      <td>12.70</td>\n",
       "      <td>-4.534216</td>\n",
       "    </tr>\n",
       "  </tbody>\n",
       "</table>\n",
       "</div>"
      ],
      "text/plain": [
       "  FIPS Code State            Name  Year less_HS eq_HS less_Uni eq_Uni  \\\n",
       "0      1001    AL  Autauga County  1970    54.8  31.1      7.7    6.4   \n",
       "1      1001    AL  Autauga County  1980    40.6  35.2     12.1   12.1   \n",
       "2      1001    AL  Autauga County  1990    30.0  32.0     23.5   14.5   \n",
       "3      1001    AL  Autauga County  2000    21.3  33.8     26.9   18.0   \n",
       "4      1001    AL  Autauga County  2010    13.5  35.0     29.8   21.6   \n",
       "\n",
       "   Percent_Poverty  Norm_Pov  \n",
       "0            23.70  2.801519  \n",
       "1            16.62  0.825690  \n",
       "2            15.70 -1.017577  \n",
       "3            10.90 -3.273829  \n",
       "4            12.70 -4.534216  "
      ]
     },
     "execution_count": 18,
     "metadata": {},
     "output_type": "execute_result"
    }
   ],
   "source": [
    "avgs = df.groupby(['Year'])['Percent_Poverty'].mean()\n",
    "avg_1970 = avgs.values[0]\n",
    "avg_1980 = avgs.values[1]\n",
    "avg_1990 = avgs.values[2]\n",
    "avg_2000 = avgs.values[3]\n",
    "avg_2010 = avgs.values[4]\n",
    "avg_2020 = avgs.values[5]\n",
    "\n",
    "norm_pov = []\n",
    "\n",
    "for index, row in df.iterrows():\n",
    "    if (row['Year'] == 1970):\n",
    "        norm_pov.append(row['Percent_Poverty'] - avg_1970)\n",
    "    if (row['Year'] == 1980):\n",
    "        norm_pov.append(row['Percent_Poverty'] - avg_1980)\n",
    "    if (row['Year'] == 1990):\n",
    "        norm_pov.append(row['Percent_Poverty'] - avg_1990)\n",
    "    if (row['Year'] == 2000):\n",
    "        norm_pov.append(row['Percent_Poverty'] - avg_2000)\n",
    "    if (row['Year'] == 2010):\n",
    "        norm_pov.append(row['Percent_Poverty'] - avg_2010)\n",
    "    if (row['Year'] == 2020):\n",
    "        norm_pov.append(row['Percent_Poverty'] - avg_2020)\n",
    "        \n",
    "df['Norm_Pov'] = norm_pov\n",
    "df.head()"
   ]
  },
  {
   "cell_type": "markdown",
   "id": "d642039a-c719-4740-9bd0-728fe73c069b",
   "metadata": {},
   "source": [
    "Now lets see how the year impacts the *normalized* percentage of poverty per county:"
   ]
  },
  {
   "cell_type": "code",
   "execution_count": 19,
   "id": "d1964f49-e9ee-4681-840a-fc544d9a883d",
   "metadata": {},
   "outputs": [
    {
     "name": "stdout",
     "output_type": "stream",
     "text": [
      "Slope: 4.971340637045733e-16\n"
     ]
    },
    {
     "data": {
      "image/png": "[encoded data removed]",
      "text/plain": [
       "<Figure size 432x288 with 1 Axes>"
      ]
     },
     "metadata": {
      "needs_background": "light"
     },
     "output_type": "display_data"
    }
   ],
   "source": [
    "norm_pov_per_year = []\n",
    "for index in [1970, 1980, 1990, 2000, 2010, 2020]:\n",
    "    data_by_year = df.loc[df['Year'] == index]\n",
    "    arr = data_by_year['Norm_Pov'].values\n",
    "    norm_pov_per_year.append(arr)\n",
    "\n",
    "plt = reload(plt)\n",
    "fig, ax = plt.subplots()\n",
    "ax.violinplot(norm_pov_per_year, df['Year'].unique(), widths=4, showmeans=False, showmedians=True)\n",
    "ax.set_xlabel(\"Year\")\n",
    "ax.set_ylabel(\"% in Poverty (Normalized)\")\n",
    "ax.set_title(\"Normalized % of County Population in Poverty by Year\")\n",
    "m, b = numpy.polyfit(list(df['Year'].values), list(df['Norm_Pov'].values), 1)\n",
    "plt.plot(df['Year'].values, m*(df['Year'].values)+b)\n",
    "\n",
    "print('Slope: {}'.format(m))"
   ]
  },
  {
   "cell_type": "markdown",
   "id": "c235878b-9d40-4c4e-b8d9-c5db8bfe1a38",
   "metadata": {},
   "source": [
    "We can now see that the median is centered about zero, and the line of regression is much flatter using the normalized measure of poverty (from a slope of -0.0969 to effectively 0). At this point, we can accept the null hypothosis, and we can compare poverty rates between counties regardless of year."
   ]
  },
  {
   "cell_type": "markdown",
   "id": "1b1c442f-3dc6-412c-99f3-b39191b6182f",
   "metadata": {},
   "source": [
    "Now, lets look at education, and it's apparent effect on poverty rates, now that we have normalized them by year. Understanding that it is difficult to plot data using more than 3 metrics (in 3 dimensional space), let's simplify the educational data into two key categories:\n",
    "-  **HS**: the percetage of county citizens with at most a high school diploma.\n",
    "- **Uni**: the percentage of county citizens with at least some college."
   ]
  },
  {
   "cell_type": "code",
   "execution_count": 20,
   "id": "63cb4e93-71e5-45cc-9059-4bbcd0765bdc",
   "metadata": {},
   "outputs": [],
   "source": [
    "new_col = numpy.zeros(len(df))\n",
    "df.insert(6, 'HS', new_col, True)\n",
    "df.insert(9, 'Uni', new_col, True)"
   ]
  },
  {
   "cell_type": "code",
   "execution_count": 21,
   "id": "4d311752-ec5d-48cc-8d0a-77bcdb12820a",
   "metadata": {},
   "outputs": [
    {
     "data": {
      "text/html": [
       "<div>\n",
       "<style scoped>\n",
       "    .dataframe tbody tr th:only-of-type {\n",
       "        vertical-align: middle;\n",
       "    }\n",
       "\n",
       "    .dataframe tbody tr th {\n",
       "        vertical-align: top;\n",
       "    }\n",
       "\n",
       "    .dataframe thead th {\n",
       "        text-align: right;\n",
       "    }\n",
       "</style>\n",
       "<table border=\"1\" class=\"dataframe\">\n",
       "  <thead>\n",
       "    <tr style=\"text-align: right;\">\n",
       "      <th></th>\n",
       "      <th>FIPS Code</th>\n",
       "      <th>State</th>\n",
       "      <th>Name</th>\n",
       "      <th>Year</th>\n",
       "      <th>less_HS</th>\n",
       "      <th>eq_HS</th>\n",
       "      <th>HS</th>\n",
       "      <th>less_Uni</th>\n",
       "      <th>eq_Uni</th>\n",
       "      <th>Uni</th>\n",
       "      <th>Percent_Poverty</th>\n",
       "      <th>Norm_Pov</th>\n",
       "    </tr>\n",
       "  </thead>\n",
       "  <tbody>\n",
       "    <tr>\n",
       "      <th>0</th>\n",
       "      <td>1001</td>\n",
       "      <td>AL</td>\n",
       "      <td>Autauga County</td>\n",
       "      <td>1970</td>\n",
       "      <td>54.8</td>\n",
       "      <td>31.1</td>\n",
       "      <td>85.9</td>\n",
       "      <td>7.7</td>\n",
       "      <td>6.4</td>\n",
       "      <td>14.1</td>\n",
       "      <td>23.70</td>\n",
       "      <td>2.801519</td>\n",
       "    </tr>\n",
       "    <tr>\n",
       "      <th>1</th>\n",
       "      <td>1001</td>\n",
       "      <td>AL</td>\n",
       "      <td>Autauga County</td>\n",
       "      <td>1980</td>\n",
       "      <td>40.6</td>\n",
       "      <td>35.2</td>\n",
       "      <td>75.8</td>\n",
       "      <td>12.1</td>\n",
       "      <td>12.1</td>\n",
       "      <td>24.2</td>\n",
       "      <td>16.62</td>\n",
       "      <td>0.825690</td>\n",
       "    </tr>\n",
       "    <tr>\n",
       "      <th>2</th>\n",
       "      <td>1001</td>\n",
       "      <td>AL</td>\n",
       "      <td>Autauga County</td>\n",
       "      <td>1990</td>\n",
       "      <td>30.0</td>\n",
       "      <td>32.0</td>\n",
       "      <td>62.0</td>\n",
       "      <td>23.5</td>\n",
       "      <td>14.5</td>\n",
       "      <td>38.0</td>\n",
       "      <td>15.70</td>\n",
       "      <td>-1.017577</td>\n",
       "    </tr>\n",
       "    <tr>\n",
       "      <th>3</th>\n",
       "      <td>1001</td>\n",
       "      <td>AL</td>\n",
       "      <td>Autauga County</td>\n",
       "      <td>2000</td>\n",
       "      <td>21.3</td>\n",
       "      <td>33.8</td>\n",
       "      <td>55.1</td>\n",
       "      <td>26.9</td>\n",
       "      <td>18.0</td>\n",
       "      <td>44.9</td>\n",
       "      <td>10.90</td>\n",
       "      <td>-3.273829</td>\n",
       "    </tr>\n",
       "    <tr>\n",
       "      <th>4</th>\n",
       "      <td>1001</td>\n",
       "      <td>AL</td>\n",
       "      <td>Autauga County</td>\n",
       "      <td>2010</td>\n",
       "      <td>13.5</td>\n",
       "      <td>35.0</td>\n",
       "      <td>48.5</td>\n",
       "      <td>29.8</td>\n",
       "      <td>21.6</td>\n",
       "      <td>51.4</td>\n",
       "      <td>12.70</td>\n",
       "      <td>-4.534216</td>\n",
       "    </tr>\n",
       "    <tr>\n",
       "      <th>5</th>\n",
       "      <td>1001</td>\n",
       "      <td>AL</td>\n",
       "      <td>Autauga County</td>\n",
       "      <td>2020</td>\n",
       "      <td>11.3</td>\n",
       "      <td>31.4</td>\n",
       "      <td>42.7</td>\n",
       "      <td>29.0</td>\n",
       "      <td>28.3</td>\n",
       "      <td>57.3</td>\n",
       "      <td>11.20</td>\n",
       "      <td>-2.557577</td>\n",
       "    </tr>\n",
       "    <tr>\n",
       "      <th>6</th>\n",
       "      <td>1003</td>\n",
       "      <td>AL</td>\n",
       "      <td>Baldwin County</td>\n",
       "      <td>1970</td>\n",
       "      <td>59.4</td>\n",
       "      <td>26.7</td>\n",
       "      <td>86.1</td>\n",
       "      <td>7.4</td>\n",
       "      <td>6.5</td>\n",
       "      <td>13.9</td>\n",
       "      <td>22.60</td>\n",
       "      <td>1.701519</td>\n",
       "    </tr>\n",
       "    <tr>\n",
       "      <th>7</th>\n",
       "      <td>1003</td>\n",
       "      <td>AL</td>\n",
       "      <td>Baldwin County</td>\n",
       "      <td>1980</td>\n",
       "      <td>39.7</td>\n",
       "      <td>33.7</td>\n",
       "      <td>73.4</td>\n",
       "      <td>14.5</td>\n",
       "      <td>12.1</td>\n",
       "      <td>26.6</td>\n",
       "      <td>16.23</td>\n",
       "      <td>0.435690</td>\n",
       "    </tr>\n",
       "    <tr>\n",
       "      <th>8</th>\n",
       "      <td>1003</td>\n",
       "      <td>AL</td>\n",
       "      <td>Baldwin County</td>\n",
       "      <td>1990</td>\n",
       "      <td>26.8</td>\n",
       "      <td>31.8</td>\n",
       "      <td>58.6</td>\n",
       "      <td>24.6</td>\n",
       "      <td>16.8</td>\n",
       "      <td>41.4</td>\n",
       "      <td>14.30</td>\n",
       "      <td>-2.417577</td>\n",
       "    </tr>\n",
       "    <tr>\n",
       "      <th>9</th>\n",
       "      <td>1003</td>\n",
       "      <td>AL</td>\n",
       "      <td>Baldwin County</td>\n",
       "      <td>2000</td>\n",
       "      <td>18.0</td>\n",
       "      <td>29.6</td>\n",
       "      <td>47.6</td>\n",
       "      <td>29.3</td>\n",
       "      <td>23.1</td>\n",
       "      <td>52.4</td>\n",
       "      <td>10.10</td>\n",
       "      <td>-4.073829</td>\n",
       "    </tr>\n",
       "  </tbody>\n",
       "</table>\n",
       "</div>"
      ],
      "text/plain": [
       "  FIPS Code State            Name  Year less_HS eq_HS    HS less_Uni eq_Uni  \\\n",
       "0      1001    AL  Autauga County  1970    54.8  31.1  85.9      7.7    6.4   \n",
       "1      1001    AL  Autauga County  1980    40.6  35.2  75.8     12.1   12.1   \n",
       "2      1001    AL  Autauga County  1990    30.0  32.0  62.0     23.5   14.5   \n",
       "3      1001    AL  Autauga County  2000    21.3  33.8  55.1     26.9   18.0   \n",
       "4      1001    AL  Autauga County  2010    13.5  35.0  48.5     29.8   21.6   \n",
       "5      1001    AL  Autauga County  2020    11.3  31.4  42.7     29.0   28.3   \n",
       "6      1003    AL  Baldwin County  1970    59.4  26.7  86.1      7.4    6.5   \n",
       "7      1003    AL  Baldwin County  1980    39.7  33.7  73.4     14.5   12.1   \n",
       "8      1003    AL  Baldwin County  1990    26.8  31.8  58.6     24.6   16.8   \n",
       "9      1003    AL  Baldwin County  2000    18.0  29.6  47.6     29.3   23.1   \n",
       "\n",
       "    Uni  Percent_Poverty  Norm_Pov  \n",
       "0  14.1            23.70  2.801519  \n",
       "1  24.2            16.62  0.825690  \n",
       "2  38.0            15.70 -1.017577  \n",
       "3  44.9            10.90 -3.273829  \n",
       "4  51.4            12.70 -4.534216  \n",
       "5  57.3            11.20 -2.557577  \n",
       "6  13.9            22.60  1.701519  \n",
       "7  26.6            16.23  0.435690  \n",
       "8  41.4            14.30 -2.417577  \n",
       "9  52.4            10.10 -4.073829  "
      ]
     },
     "execution_count": 21,
     "metadata": {},
     "output_type": "execute_result"
    }
   ],
   "source": [
    "for index, row in df.iterrows():\n",
    "    df.at[index, 'HS'] = row['less_HS'] + row['eq_HS']\n",
    "    df.at[index, 'Uni'] = row['less_Uni'] + row['eq_Uni']\n",
    "df.head(10)"
   ]
  },
  {
   "cell_type": "markdown",
   "id": "35065991-3cc8-4e63-b4be-814776b1134a",
   "metadata": {},
   "source": [
    "Technically, having both the HS and Uni columns is unneccissary, since HS = 100 - Uni and Uni = 100 - HS, as they are both percentages that descibe 100% of the population. Since we can effectively eliminate one of our metrics (either Uni or HS), we can plot our points in 2D space:"
   ]
  },
  {
   "cell_type": "code",
   "execution_count": 22,
   "id": "53ce9ba7-45f4-46f1-9ab2-38e746ba408b",
   "metadata": {},
   "outputs": [
    {
     "data": {
      "text/plain": [
       "[<matplotlib.lines.Line2D at 0x7f15cbd26ca0>]"
      ]
     },
     "execution_count": 22,
     "metadata": {},
     "output_type": "execute_result"
    },
    {
     "data": {
      "image/png": "[encoded data removed]",
      "text/plain": [
       "<Figure size 864x432 with 1 Axes>"
      ]
     },
     "metadata": {
      "needs_background": "light"
     },
     "output_type": "display_data"
    }
   ],
   "source": [
    "plt = reload(plt)\n",
    "\n",
    "fig = plt.figure(figsize=(12, 6))\n",
    "fig = plt.plot(df['Uni'], df['Norm_Pov'], 'o', color='green')\n",
    "fig = plt.title('University-Level Education vs Normalized Poverty Rate by County/Year')\n",
    "fig = plt.ylabel('Normalized Poverty Rate')\n",
    "fig = plt.xlabel('% Educated with Some College or More')\n",
    "\n",
    "a, b = numpy.polyfit(df['Uni'], df['Norm_Pov'], 1)\n",
    "plt.plot(df['Uni'], a*df['Uni']+b)  "
   ]
  },
  {
   "cell_type": "markdown",
   "id": "e29ace19-af17-43e7-a4d5-157cc1649cbd",
   "metadata": {},
   "source": [
    "It looks as if a majority high-school-educated population (left side of the x axis) may have extraordinarily high or low rates of poverty. However, as more of the county population becomes college-educated, it appears to be less prone to high levels of poverty."
   ]
  },
  {
   "cell_type": "markdown",
   "id": "e2322b67-a6ca-4732-8870-532d0cbbff4d",
   "metadata": {
    "tags": []
   },
   "source": [
    "### 4. Predictive Models #"
   ]
  },
  {
   "cell_type": "markdown",
   "id": "55cb6e21-d955-46b6-b88b-3d9721eb52a7",
   "metadata": {},
   "source": [
    "Lets write a predictive model to see if we can build an accurate way to predict poverty rate from the education of a county based off of:<br>\n",
    "- Year\n",
    "- < HS/less_HS\n",
    "- = HS/eq_HS\n",
    "- < Uni/less_Uni\n",
    "- = Uni/eq_Uni"
   ]
  },
  {
   "cell_type": "markdown",
   "id": "81379690-feae-4e9e-ab88-10d2cd474fe0",
   "metadata": {},
   "source": [
    "We will start with K-Nearest-Neighbor, since we have several features wherein proximity is important. Also, it is a simpler algorithm than others, like Random Forest, so if we can get an accurate model using a simpler algorithm, that would be ideal."
   ]
  },
  {
   "cell_type": "markdown",
   "id": "419c601c-096c-4958-9dd4-9ab7ca920b45",
   "metadata": {},
   "source": [
    "Firstly, let's import our packages:"
   ]
  },
  {
   "cell_type": "code",
   "execution_count": 23,
   "id": "5c1666e2-f99b-47e6-bd02-678b616bd4a9",
   "metadata": {},
   "outputs": [],
   "source": [
    "from sklearn.model_selection import train_test_split\n",
    "from sklearn.neighbors import KNeighborsRegressor\n",
    "from sklearn.ensemble import RandomForestRegressor"
   ]
  },
  {
   "cell_type": "markdown",
   "id": "854b61c4-28de-40c0-b862-2db8bc838258",
   "metadata": {},
   "source": [
    "Now, let's specify our features:"
   ]
  },
  {
   "cell_type": "code",
   "execution_count": 24,
   "id": "5602bb88-4ffe-47d1-94db-5d38f31ef4df",
   "metadata": {},
   "outputs": [],
   "source": [
    "poverty = df['Percent_Poverty'].values\n",
    "features = df.drop({'Percent_Poverty', 'FIPS Code', 'State', 'Name', 'HS', 'Uni', 'Norm_Pov'}, axis = 1)"
   ]
  },
  {
   "cell_type": "markdown",
   "id": "75d8d6ac-5d91-427a-96c3-8d0b6f2a75ff",
   "metadata": {},
   "source": [
    "Then, lets split up our data into testing/training data:"
   ]
  },
  {
   "cell_type": "code",
   "execution_count": 25,
   "id": "f765912a-08b0-49b9-b616-93aa291254ef",
   "metadata": {},
   "outputs": [],
   "source": [
    "train_features, test_features, train_pov, test_pov = train_test_split(features, poverty, test_size = 0.15, random_state = 12)"
   ]
  },
  {
   "cell_type": "markdown",
   "id": "e885c27d-7fc9-4d1a-854f-76e7884c02ea",
   "metadata": {},
   "source": [
    "Now let's train our model! We'll use 45 neighbors, which is the optimal number of neighbors I could achieve after repeating this model with different hyperparameters."
   ]
  },
  {
   "cell_type": "code",
   "execution_count": 26,
   "id": "3afae922-74c4-4091-86ff-a409b6819de7",
   "metadata": {},
   "outputs": [
    {
     "data": {
      "text/plain": [
       "KNeighborsRegressor(n_neighbors=45)"
      ]
     },
     "execution_count": 26,
     "metadata": {},
     "output_type": "execute_result"
    }
   ],
   "source": [
    "knn = KNeighborsRegressor(n_neighbors = 45)\n",
    "knn.fit(train_features, train_pov)"
   ]
  },
  {
   "cell_type": "markdown",
   "id": "80f37e3f-7580-4271-bcc2-2789e6dd95af",
   "metadata": {},
   "source": [
    "And now, let's see how good our trained model is at predicting the test data. We use Mean Squared Error, because we want to punish significant outliers."
   ]
  },
  {
   "cell_type": "code",
   "execution_count": 27,
   "id": "5d569b33-4a30-4349-92f5-94c4765ef3d7",
   "metadata": {},
   "outputs": [
    {
     "name": "stdout",
     "output_type": "stream",
     "text": [
      "Accuracy (100% - MSE): 74.57819016573166 %.\n"
     ]
    }
   ],
   "source": [
    "knn_predictions = knn.predict(test_features)\n",
    "knn_error = (knn_predictions - test_pov) ** 2\n",
    "MSE = knn_error.sum()/len(test_pov)\n",
    "print('Accuracy (100% - MSE):', (100 - MSE), '%.')"
   ]
  },
  {
   "cell_type": "markdown",
   "id": "91d22c68-6092-495b-8354-a53d0d4f31d3",
   "metadata": {},
   "source": [
    "It looks like our model is accurate roughly 75% of the time. That is decent, but let's see if we can do slightly better with Random Forest:"
   ]
  },
  {
   "cell_type": "code",
   "execution_count": 28,
   "id": "c048f204-9c63-4207-89da-779db4a96bc9",
   "metadata": {},
   "outputs": [
    {
     "data": {
      "text/plain": [
       "RandomForestRegressor(n_estimators=1000, random_state=45)"
      ]
     },
     "execution_count": 28,
     "metadata": {},
     "output_type": "execute_result"
    }
   ],
   "source": [
    "# Tested initially with 2000 decision trees at 72.973% accuracy-- hyperparameter lowered to improve performance.\n",
    "forest = RandomForestRegressor(n_estimators = 1000, random_state = 45)\n",
    "forest.fit(train_features, train_pov)"
   ]
  },
  {
   "cell_type": "code",
   "execution_count": 29,
   "id": "2a4c8822-56ff-437b-96e1-e4db7dda7fed",
   "metadata": {},
   "outputs": [
    {
     "name": "stdout",
     "output_type": "stream",
     "text": [
      "Accuracy (100% - MSE): 72.82697136640749 %.\n"
     ]
    }
   ],
   "source": [
    "forest_predictions = forest.predict(test_features)\n",
    "forest_error = (forest_predictions - test_pov) ** 2\n",
    "MSE = forest_error.sum()/len(test_pov)\n",
    "print('Accuracy (100% - MSE):', (100 - MSE), '%.')"
   ]
  },
  {
   "cell_type": "markdown",
   "id": "bd00447c-444d-4ab1-b036-11a3ab04f8a5",
   "metadata": {},
   "source": [
    "The best accuracy I could get for the Random Forest was 72.973%, using 2000 decision trees (which took quite a while to run). Judging by the accuracy of both models, it seems my intuition was correct: both in terms of accuracy and performance time, K-Nearest-Neighbor is best for predicting this model."
   ]
  },
  {
   "cell_type": "markdown",
   "id": "09e2b7d7-6f3d-4136-8b60-d14eec293355",
   "metadata": {
    "tags": []
   },
   "source": [
    "### 5. Conclusion #"
   ]
  },
  {
   "cell_type": "markdown",
   "id": "209d1eb6-04ea-478a-82ac-40dcfab9aeba",
   "metadata": {
    "jp-MarkdownHeadingCollapsed": true,
    "tags": []
   },
   "source": [
    "To recap our findings: We determined, after seeing that the rates of poverty on the county/year level are skewed to the right, with a few select counties reporting very high rates of poverty, that median is the best measure of central tendency. From looking at the median of the distributions as they changed from year to year, we decided to reject the null hypothesis that year doesn't influence poverty data, and made a normalized column which put a county's rate of poverty for a given year from the perspective of the yearly average rate of poverty. Then we displayed a scatter plot of the normalized poverty rates based on the percent of citizens in a county which attended at least some college (in other words, the percentage of citizens who don't only have at most a high school diploma). Finally, we tried two different predictive models to be able to predict poverty rate from educational data, and determined that K-Nearest-Neighbor was the most effective tool at ~75% accuracy, using Mean Squared Error.<br>\n",
    "Looking at the normalized scatter plot in part 3, we can infer some relationship between education and rates of poverty. It seems that an only high-school-educated county can experience either high or low levels of poverty. While these counties are slightly more predisposed for higher poverty rates, some counties with little to no college education have some of the lowest rates of poverty. Additionally, the counties which boast the lowest rates of poverty aren't the counties with the highest rates of college education, but the ones with close to a 50-50 balance between college-educated citizens and high-school-educated citizens. In conclusion, a county can best protect itself from poverty by attempting to educate most of it's citizens on the college level, however a balance between college-educated citizens and high-school-educated citizens has the potential for extremely low rates of poverty."
   ]
  }
 ],
 "metadata": {
  "kernelspec": {
   "display_name": "Python 3 (ipykernel)",
   "language": "python",
   "name": "python3"
  },
  "language_info": {
   "codemirror_mode": {
    "name": "ipython",
    "version": 3
   },
   "file_extension": ".py",
   "mimetype": "text/x-python",
   "name": "python",
   "nbconvert_exporter": "python",
   "pygments_lexer": "ipython3",
   "version": "3.9.7"
  }
 },
 "nbformat": 4,
 "nbformat_minor": 5
}
